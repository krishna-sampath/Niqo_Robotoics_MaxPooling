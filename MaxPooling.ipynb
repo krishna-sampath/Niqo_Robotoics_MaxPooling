{
  "nbformat": 4,
  "nbformat_minor": 0,
  "metadata": {
    "colab": {
      "provenance": []
    },
    "kernelspec": {
      "name": "python3",
      "display_name": "Python 3"
    },
    "language_info": {
      "name": "python"
    }
  },
  "cells": [
    {
      "cell_type": "code",
      "execution_count": 11,
      "metadata": {
        "id": "qo49n7lv3Azx"
      },
      "outputs": [],
      "source": [
        "import numpy as np\n",
        "import collections\n",
        "import time\n",
        "\n",
        "\n",
        "\n",
        "class MaxPoolingFactory:\n",
        "    def __init__(self, matrix):\n",
        "\n",
        "        # if type of matrix is numpy matrix, set handler to NumPyMaxPooling\n",
        "        if isinstance(matrix, np.ndarray):\n",
        "            self.handler = NumPyMaxPooling(matrix)\n",
        "\n",
        "        # else, set handler to ListMaxPooling\n",
        "        else:\n",
        "            self.handler = ListMaxPooling(matrix)\n",
        "\n",
        "    def get_handler(self):\n",
        "        return self.handler\n",
        "\n",
        "class MaxPooling:\n",
        "    def __init__(self, matrix):\n",
        "        self.matrix = matrix\n",
        "\n",
        "    def maxSlidingWindow(self, nums, k):\n",
        "      pass\n",
        "\n",
        "    def max_pool(self,window_size):\n",
        "      pass\n",
        "\n",
        "class NumPyMaxPooling(MaxPooling):\n",
        "    def __init__(self, matrix):\n",
        "        self.matrix = matrix\n",
        "\n",
        "    def maxSlidingWindow(self, nums, k):\n",
        "      \"\"\"\n",
        "      Return the windows of the sliding window\n",
        "      :type nums: np.ndarray\n",
        "      :type k: int\n",
        "      :rtype: np.ndarray\n",
        "      \"\"\"\n",
        "\n",
        "      d = collections.deque()\n",
        "      nums_len = len(nums)\n",
        "      out = np.zeros(nums_len, dtype=int)  # Pre-allocate a NumPy array with zeros\n",
        "\n",
        "      # Variable to track the index for inserting the maximum value\n",
        "      output_index = 0\n",
        "\n",
        "      for i, n in enumerate(nums):\n",
        "          # Remove all elements smaller than the current element\n",
        "          while d and nums[d[-1]] < n:\n",
        "              d.pop()\n",
        "\n",
        "          # Add the current element's index to the deque\n",
        "          d.append(i)\n",
        "\n",
        "          # Remove the element that is outside the sliding window\n",
        "          if d[0] == i - k:\n",
        "              d.popleft()\n",
        "\n",
        "          # Append the maximum element of the current window to the output\n",
        "          if i >= k - 1:\n",
        "              out[output_index] = nums[d[0]]\n",
        "              output_index += 1\n",
        "\n",
        "      return out\n",
        "\n",
        "\n",
        "\n",
        "    def max_pool(self, window_size):\n",
        "        # If window_size <= 1, return matrix as it is\n",
        "        if window_size <= 1:\n",
        "            return self.matrix\n",
        "\n",
        "        # Step 1: Apply sliding window horizontally across rows\n",
        "        if window_size >= len(self.matrix[0]):\n",
        "            row_max = np.max(self.matrix, axis=1).reshape(-1, 1)\n",
        "        else:\n",
        "            # Sliding window over axis 1 (columns), use window_size only\n",
        "            row_windows = np.lib.stride_tricks.sliding_window_view(self.matrix, window_shape=window_size, axis=1)\n",
        "            row_max = np.max(row_windows, axis=2)\n",
        "\n",
        "        # Step 2: Transpose the result of row-wise max pooling\n",
        "        row_max_transposed = row_max.T\n",
        "\n",
        "        # Step 3: Apply sliding window over the transposed matrix (which corresponds to columns in the original matrix)\n",
        "        if window_size >= len(row_max_transposed[0]):\n",
        "            col_max = np.max(row_max_transposed, axis=1).reshape(-1, 1)\n",
        "        else:\n",
        "            # Sliding window over axis 1 (columns of transposed), use window_size only\n",
        "            col_windows = np.lib.stride_tricks.sliding_window_view(row_max_transposed, window_shape=window_size, axis=1)\n",
        "            col_max = np.max(col_windows, axis=2)\n",
        "\n",
        "        # Step 4: Transpose the final result back to get the original dimensions\n",
        "        final_output = col_max.T\n",
        "\n",
        "        return final_output\n",
        "\n",
        "class ListMaxPooling(MaxPooling):\n",
        "    def __init__(self, matrix):\n",
        "        self.matrix = matrix\n",
        "\n",
        "    def maxSlidingWindow(self,nums, k):\n",
        "      \"\"\"\n",
        "      Return the windows of the sliding window\n",
        "      :type nums: List[int]\n",
        "      :type k: int\n",
        "      :rtype: List[int]\n",
        "      \"\"\"\n",
        "\n",
        "      d = collections.deque()\n",
        "      out = []\n",
        "      nums_len = len(nums)\n",
        "\n",
        "      for i, n in enumerate(nums):\n",
        "\n",
        "          while d and nums[d[-1]] < n:\n",
        "              d.pop()\n",
        "\n",
        "          d.append(i)\n",
        "\n",
        "          if d[0] == i - k:\n",
        "              d.popleft()\n",
        "\n",
        "          if i>=k-1:\n",
        "              out.append(nums[d[0]])\n",
        "\n",
        "      # Padding the output array to make it len(input matrix)\n",
        "      for i in range(len(nums) - len(out)):\n",
        "        out.append(0)\n",
        "      return out\n",
        "\n",
        "    def max_pool(self, window_size):\n",
        "\n",
        "      if(len(self.matrix) == 0):\n",
        "        return []\n",
        "\n",
        "      if window_size <= 1:\n",
        "        return self.matrix\n",
        "\n",
        "      if window_size >= len(self.matrix):\n",
        "        # Find max of matrix and return it\n",
        "        ret = [[0]*len(self.matrix) for i in range(len(self.matrix))]\n",
        "        ret[0][0] = max(map(max, self.matrix))\n",
        "        return ret\n",
        "\n",
        "\n",
        "      output_matrix = []\n",
        "      for i in range(len(self.matrix)):\n",
        "        output_matrix.append(self.maxSlidingWindow(self.matrix[i], window_size))\n",
        "\n",
        "      # Transpose the list of lists\n",
        "      output_matrix = list(map(list, zip(*output_matrix)))\n",
        "\n",
        "      # Calculate sliding window of rows of output_matrix\n",
        "      for i in range(len(output_matrix)):\n",
        "        output_matrix[i] = self.maxSlidingWindow(output_matrix[i], window_size)\n",
        "\n",
        "      # Transpose the list of lists\n",
        "      output_matrix = list(map(list, zip(*output_matrix)))\n",
        "\n",
        "\n",
        "      return output_matrix\n",
        "\n",
        "    def max_pool_naive(self, matrix, window_size):\n",
        "      n = len(matrix)\n",
        "\n",
        "      output_size = n - window_size + 1\n",
        "\n",
        "      output = [[0 for _ in range(output_size)] for _ in range(output_size)]\n",
        "\n",
        "      if(window_size == 1):\n",
        "        return matrix\n",
        "\n",
        "      if(window_size >= len(matrix)):\n",
        "        return matrix\n",
        "\n",
        "      for i in range(output_size):\n",
        "          for j in range(output_size):\n",
        "              window = [matrix[x][j:j+window_size] for x in range(i, i+window_size)]\n",
        "              max_in_window = max(max(row) for row in window)\n",
        "              output[i][j] = max_in_window\n",
        "\n",
        "      # pad output to make it original size\n",
        "      cols = len(matrix) - output_size\n",
        "      for i in range(output_size):\n",
        "        for j in range(cols):\n",
        "          output[i].append(0)\n",
        "      for i in range(cols):\n",
        "        output.append([0]*len(matrix[0]))\n",
        "\n",
        "      return output\n",
        "\n"
      ]
    },
    {
      "cell_type": "code",
      "source": [
        "\n",
        "a = np.matrix([[3, 4, 2, 1], [1, 5, 4, 6], [3, 6, 7, 2], [3, 2, 5, 4]])\n",
        "\n",
        "maxPoolFactory = MaxPoolingFactory(a)\n",
        "maxPoolFactory.get_handler().max_pool(3)\n"
      ],
      "metadata": {
        "colab": {
          "base_uri": "https://localhost:8080/"
        },
        "id": "vgaJ291a8o6r",
        "outputId": "02336a7b-bdbb-4371-90e2-88378887a684"
      },
      "execution_count": 12,
      "outputs": [
        {
          "output_type": "execute_result",
          "data": {
            "text/plain": [
              "matrix([[7]])"
            ]
          },
          "metadata": {},
          "execution_count": 12
        }
      ]
    },
    {
      "cell_type": "markdown",
      "source": [
        "# **Test Cases**\n"
      ],
      "metadata": {
        "id": "pfLtmJZ73Utu"
      }
    },
    {
      "cell_type": "code",
      "source": [
        "matrix = [[3, 4, 2, 1], [1, 5, 4, 6], [3, 6, 7, 2], [3, 2, 5, 4]]\n",
        "window_size = 2\n",
        "\n",
        "maxPoolFactory = MaxPoolingFactory(matrix)\n",
        "output = maxPoolFactory.get_handler().max_pool(window_size)\n",
        "\n",
        "expected_output = [[5, 5, 6, 0], [6, 7, 7, 0], [6, 7, 7, 0], [0, 0, 0, 0]]\n",
        "\n",
        "assert output == expected_output, \"Output does not match expected output\"\n",
        "print(\"OK\")\n"
      ],
      "metadata": {
        "id": "8qFgkDtH3EiD",
        "outputId": "cd549f19-6e20-47af-eb06-9b353db02de8",
        "colab": {
          "base_uri": "https://localhost:8080/"
        }
      },
      "execution_count": 13,
      "outputs": [
        {
          "output_type": "stream",
          "name": "stdout",
          "text": [
            "OK\n"
          ]
        }
      ]
    },
    {
      "cell_type": "code",
      "source": [
        "matrix = [\n",
        "    [1, 3, 2],\n",
        "    [4, 6, 5],\n",
        "    [7, 8, 9]\n",
        "]\n",
        "window_size = 2\n",
        "maxPoolFactory = MaxPoolingFactory(matrix)\n",
        "output = maxPoolFactory.get_handler().max_pool(window_size)\n",
        "expected_output = [\n",
        "    [6, 6, 0],\n",
        "    [8, 9, 0],\n",
        "    [0, 0, 0]\n",
        "]\n",
        "assert output == expected_output, \"Output does not match expected output\"\n",
        "print(\"OK\")\n"
      ],
      "metadata": {
        "id": "BCUYqBLN3c4a",
        "outputId": "5974bf5e-2c40-4d43-ae66-b8bc9d4b6026",
        "colab": {
          "base_uri": "https://localhost:8080/"
        }
      },
      "execution_count": 14,
      "outputs": [
        {
          "output_type": "stream",
          "name": "stdout",
          "text": [
            "OK\n"
          ]
        }
      ]
    },
    {
      "cell_type": "code",
      "source": [
        "matrix = [\n",
        "    [1, 3, 2],\n",
        "    [4, 6, 5],\n",
        "    [7, 8, 9]\n",
        "]\n",
        "\n",
        "window_size = 3\n",
        "maxPoolFactory = MaxPoolingFactory(matrix)\n",
        "output = maxPoolFactory.get_handler().max_pool(window_size)\n",
        "expected_output = [\n",
        "    [9, 0, 0],\n",
        "    [0, 0, 0],\n",
        "    [0, 0, 0]\n",
        "]\n",
        "assert output == expected_output, \"Output does not match expected output\"\n",
        "print(\"OK\")"
      ],
      "metadata": {
        "id": "ENwl72Hm3ok0",
        "outputId": "2a829340-b4da-461b-9563-15806f3f868b",
        "colab": {
          "base_uri": "https://localhost:8080/"
        }
      },
      "execution_count": 15,
      "outputs": [
        {
          "output_type": "stream",
          "name": "stdout",
          "text": [
            "OK\n"
          ]
        }
      ]
    },
    {
      "cell_type": "code",
      "source": [
        "matrix = [\n",
        "    [1, 3, 2, 5],\n",
        "    [4, 6, 5, 7],\n",
        "    [7, 8, 9, 10],\n",
        "    [11, 12, 13, 14]\n",
        "]\n",
        "\n",
        "window_size = 1\n",
        "maxPoolFactory = MaxPoolingFactory(matrix)\n",
        "output = maxPoolFactory.get_handler().max_pool(window_size)\n",
        "expected_output = [\n",
        "    [1, 3, 2, 5],\n",
        "    [4, 6, 5, 7],\n",
        "    [7, 8, 9, 10],\n",
        "    [11, 12, 13, 14]\n",
        "]\n",
        "assert output == expected_output, \"Output does not match expected output\"\n",
        "print(\"OK\")"
      ],
      "metadata": {
        "id": "9CEKYCkB3-aw",
        "outputId": "e8d2f342-0e05-47f9-99c4-63bd3f2f4a94",
        "colab": {
          "base_uri": "https://localhost:8080/"
        }
      },
      "execution_count": 16,
      "outputs": [
        {
          "output_type": "stream",
          "name": "stdout",
          "text": [
            "OK\n"
          ]
        }
      ]
    },
    {
      "cell_type": "code",
      "source": [
        "matrix = []\n",
        "window_size = 2\n",
        "maxPoolFactory = MaxPoolingFactory(matrix)\n",
        "output = maxPoolFactory.get_handler().max_pool(window_size)\n",
        "expected_output = []\n",
        "assert output == expected_output, \"Output does not match expected output\"\n",
        "print(\"OK\")"
      ],
      "metadata": {
        "id": "VFdVXFHv4Bm6",
        "outputId": "92cb4687-833e-4d46-826b-31518c210c5d",
        "colab": {
          "base_uri": "https://localhost:8080/"
        }
      },
      "execution_count": 17,
      "outputs": [
        {
          "output_type": "stream",
          "name": "stdout",
          "text": [
            "OK\n"
          ]
        }
      ]
    },
    {
      "cell_type": "code",
      "source": [
        "matrix = [\n",
        "    [42]\n",
        "]\n",
        "window_size = 1\n",
        "maxPoolFactory = MaxPoolingFactory(matrix)\n",
        "output = maxPoolFactory.get_handler().max_pool(window_size)\n",
        "expected_output = [[\n",
        "    42]\n",
        "]\n",
        "assert output == expected_output, \"Output does not match expected output\"\n",
        "print(\"OK\")"
      ],
      "metadata": {
        "id": "Ip23Sz784HfP",
        "outputId": "52f9c44f-42d0-4048-e32b-3488f75c07c4",
        "colab": {
          "base_uri": "https://localhost:8080/"
        }
      },
      "execution_count": 18,
      "outputs": [
        {
          "output_type": "stream",
          "name": "stdout",
          "text": [
            "OK\n"
          ]
        }
      ]
    },
    {
      "cell_type": "markdown",
      "source": [
        "# **Interface for Max-Pooling**"
      ],
      "metadata": {
        "id": "hyFtb7nc4ZTn"
      }
    },
    {
      "cell_type": "code",
      "source": [
        "n = int(input(\"Enter the size of matrix: \"))\n",
        "\n",
        "matrix = []\n",
        "for i in range(n):\n",
        "    row = list(map(int, input().split()))\n",
        "    matrix.append(row)\n",
        "\n",
        "window_size = int(input(\"Enter the window size: \"))\n",
        "maxPoolFactory = MaxPoolingFactory(matrix)\n",
        "\n",
        "start_time = time.time()\n",
        "output = maxPoolFactory.get_handler().max_pool(window_size)\n",
        "\n",
        "print(output)\n",
        "print(\"--- %s seconds ---\" % (time.time() - start_time))\n",
        "\n",
        "print(\"Naive implementation\")\n",
        "\n",
        "start_time = time.time()\n",
        "print(maxPoolFactory.get_handler().max_pool_naive(matrix, window_size))\n",
        "print(\"--- %s seconds ---\" % (time.time() - start_time))\n"
      ],
      "metadata": {
        "colab": {
          "base_uri": "https://localhost:8080/"
        },
        "id": "n5qUFLV84YxP",
        "outputId": "5604f15e-5a4b-4c38-cec3-35ba08a5d4a8"
      },
      "execution_count": 19,
      "outputs": [
        {
          "output_type": "stream",
          "name": "stdout",
          "text": [
            "Enter the size of matrix: 4\n",
            "1 2 3 4\n",
            "5 6 7 8 \n",
            "9 10 11 12\n",
            "13 14 15 16\n",
            "Enter the window size: 3\n",
            "[[11, 12, 0, 0], [15, 16, 0, 0], [0, 0, 0, 0], [0, 0, 0, 0]]\n",
            "--- 0.0003490447998046875 seconds ---\n",
            "Naive implementation\n",
            "[[11, 12, 0, 0], [15, 16, 0, 0], [0, 0, 0, 0], [0, 0, 0, 0]]\n",
            "--- 0.0001709461212158203 seconds ---\n"
          ]
        }
      ]
    },
    {
      "cell_type": "code",
      "source": [],
      "metadata": {
        "id": "O47FIGFcKKnA"
      },
      "execution_count": null,
      "outputs": []
    }
  ]
}